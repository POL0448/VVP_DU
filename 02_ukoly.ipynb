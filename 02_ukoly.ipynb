{
 "cells": [
  {
   "attachments": {},
   "cell_type": "markdown",
   "metadata": {},
   "source": [
    "# Prostory jmen a obor platnosti proměnných:\n",
    "- Upravte funkci nalézající prvočísla tak, aby ukládala již spočítané prvočísla do listu v defaultním argumentu funkce. \n"
   ]
  },
  {
   "cell_type": "code",
   "execution_count": 4,
   "metadata": {},
   "outputs": [
    {
     "name": "stdout",
     "output_type": "stream",
     "text": [
      "[2, 3, 5, 7, 11, 13, 17, 19, 23, 29]\n",
      "[2, 3, 5, 7, 11, 13, 17, 19, 23, 29, 31, 37, 41, 43, 47, 53, 59, 61, 67, 71]\n"
     ]
    }
   ],
   "source": [
    "def prvocisla(n, seznam):\n",
    "    seznam = [] #vymaze puvodni promenne tak, aby byl seznam cisty\n",
    "    cislo = 2 #prvni prvocislo\n",
    "    pocet = 0 #aktualni pocet prvocisel na zacatku = 0\n",
    "    while pocet < n: #dokud je pocet prvocisel < n\n",
    "        je_prvoc = True #nastav hodnotu je_prvoc na True\n",
    "        for i in range(2, cislo): #pro rozsah i od 2 do cislo\n",
    "            if cislo % i == 0: #jestlize je cislo beze zbytku delitelne pres i\n",
    "                je_prvoc = False #zmen hodnotu je_prvoc na False\n",
    "                break #pokracuj dalsim\n",
    "        if je_prvoc == True: #jestlize je_prvoc je True\n",
    "            seznam.append(cislo) #zapis ho do seznamu\n",
    "            pocet = pocet + 1 #zvetsi pocet prvocisel o 1\n",
    "        cislo = cislo +1 #pokracuj dalsim cislem\n",
    "    return seznam #vrat seznam\n",
    "\n",
    "print(prvocisla(10, []))\n",
    "print(prvocisla(20, []))\n"
   ]
  },
  {
   "attachments": {},
   "cell_type": "markdown",
   "metadata": {},
   "source": [
    "\n",
    "# Jupyter magics:\n",
    "- použijte funkci %%writefile a pomocí ní (a kopie funkcí z posledního DU) vytvořte .py soubor sloužící jako modul mající tři funkce viz minulý DU\n",
    "- Použijte magic příkazy %time %timeit %%time a %%timeit k měření času běhu různých částí kódu (například funkcí z minulého DU).\n"
   ]
  },
  {
   "cell_type": "code",
   "execution_count": 13,
   "metadata": {},
   "outputs": [
    {
     "name": "stdout",
     "output_type": "stream",
     "text": [
      "Wall time: 0 ns\n",
      "Wall time: 16 ms\n",
      "148 µs ± 14.4 µs per loop (mean ± std. dev. of 7 runs, 10000 loops each)\n",
      "163 µs ± 18.1 µs per loop (mean ± std. dev. of 7 runs, 10000 loops each)\n"
     ]
    }
   ],
   "source": [
    "#%%writefile odmocnina_pi.py\n",
    "def odmocnina(a):\n",
    "    a = float(a)\n",
    "    n = 1000\n",
    "    x0 = a\n",
    "    x = x0\n",
    "    for i in range(n):\n",
    "        x = (a/x + x) / 2\n",
    "    return x\n",
    "\n",
    "def pi_z_kruhu1(n): #nepocita chybu vypoctu\n",
    "    a_6 = 1 #polomer jednotkove kruznice\n",
    "    b_6 = 1 #podstava trojuhelniku v sestiuhelniku\n",
    "    v_6 = odmocnina(a_6**2 - (b_6/2)**2) #vyska trojuhleniku v sestiuhelniku\n",
    "    pi_6 = 6 * b_6 * v_6 / 2 #obsah sestiuhelniku\n",
    "    a_n = 1 #rameno trojuhelniku v n uhelniku\n",
    "    b_n = b_6 #podstava trojuhelniku v n uhelniku\n",
    "    v_n = v_6 #vyska trojuhelniku v n uhelniku\n",
    "    pi_n = pi_6 #obsah n uhelniku (aproximace pi)\n",
    "    for i in range(2, n):\n",
    "        b_n = odmocnina((b_n/2)**2 + (1-v_n)**2) #podstava trojuhleniku v n uhelniku\n",
    "        v_n = odmocnina(a_n**2 - (b_n/2)**2) #vyska trojuhelniku v n uhelniku\n",
    "        pi_n = 6 * 2**(i-1) * b_n * (v_n / 2) #obsah n uhelniku (aproximace pi)\n",
    "    return pi_n\n",
    "\n",
    "def pi_aprox(n):\n",
    "    a1 = 1/2 * 1/2**3\n",
    "    suma1 = 1/(2*1 + 1) * a1\n",
    "    a = a1\n",
    "    suma = suma1\n",
    "    for i in range(2, n):\n",
    "        a = a * (2*i - 3) / (2*i) * 1/2**2\n",
    "        suma = suma + 1/(2*i + 1) * a\n",
    "    pi = 12 * (-odmocnina(3)/8 + 1/2 - suma)\n",
    "    return pi\n",
    "\n",
    "%time odmocnina(9)\n",
    "%time pi_z_kruhu1(50)\n",
    "%timeit pi_aprox(20)\n",
    "%timeit pi_aprox(70)"
   ]
  },
  {
   "cell_type": "markdown",
   "metadata": {},
   "source": [
    "\n",
    "# Práce s řetězci:\n",
    "\n",
    "- Použíjte funkce z minulého úkolu a v cyklu spočtěte $\\pi$ s různým $n$. Pomocí f-strings vypište výsledky ve formátu \"n = 5, pi = 3.14159, počet správných cifer = 5\".\n"
   ]
  },
  {
   "cell_type": "code",
   "execution_count": 117,
   "metadata": {},
   "outputs": [
    {
     "name": "stdout",
     "output_type": "stream",
     "text": [
      "n = 1, pi = 3.141592653589793, pi vypocitane = 3.1519237886466844, pocet spravnych cifer = 1\n",
      "n = 2, pi = 3.141592653589793, pi vypocitane = 3.1425487886466845, pocet spravnych cifer = 3\n",
      "n = 3, pi = 3.141592653589793, pi vypocitane = 3.1417117350752557, pocet spravnych cifer = 3\n",
      "n = 4, pi = 3.141592653589793, pi vypocitane = 3.1416100098148387, pocet spravnych cifer = 4\n",
      "n = 5, pi = 3.141592653589793, pi vypocitane = 3.1415954446070975, pocet spravnych cifer = 5\n",
      "n = 6, pi = 3.141592653589793, pi vypocitane = 3.1415931337808694, pocet spravnych cifer = 6\n",
      "n = 7, pi = 3.141592653589793, pi vypocitane = 3.1415927403902137, pocet spravnych cifer = 7\n",
      "n = 8, pi = 3.141592653589793, pi vypocitane = 3.1415926698836163, pocet spravnych cifer = 7\n",
      "n = 9, pi = 3.141592653589793, pi vypocitane = 3.1415926567409396, pocet spravnych cifer = 8\n",
      "n = 10, pi = 3.141592653589793, pi vypocitane = 3.1415926542141035, pocet spravnych cifer = 9\n"
     ]
    }
   ],
   "source": [
    "import math\n",
    "\n",
    "def pocet_cislic(cislo1, cislo2):\n",
    "    return math.floor(- math.log10(math.fabs(cislo1 - cislo2)))\n",
    "\n",
    "\n",
    "def pi_aprox(n):\n",
    "    a1 = 1/2 * 1/2**3\n",
    "    suma1 = 1/(2*1 + 1) * a1\n",
    "    a = a1\n",
    "    suma = suma1\n",
    "    pi1 = 12 * (-odmocnina(3)/8 + 1/2 - suma1)\n",
    "    pocet1 = pocet_cislic(math.pi,pi1)\n",
    "    print(f\"n = {1}, pi = {math.pi}, pi vypocitane = {pi1}, pocet spravnych cifer = {pocet1}\")\n",
    "    for i in range(2, n+1):\n",
    "        a = a * (2*i - 3) / (2*i) * 1/2**2\n",
    "        suma = suma + 1/(2*i + 1) * a\n",
    "        pi = 12 * (-odmocnina(3)/8 + 1/2 - suma)\n",
    "        pocet = pocet_cislic(math.pi,pi)\n",
    "        print(f\"n = {i}, pi = {math.pi}, pi vypocitane = {pi}, pocet spravnych cifer = {pocet}\")\n",
    "\n",
    "pi_aprox(10)"
   ]
  },
  {
   "cell_type": "markdown",
   "metadata": {},
   "source": [
    "\n",
    "# Generátory a iterátory:\n",
    "\n",
    "- Napište generátor (funkci), který vytváří Fibonacciho posloupnost a vrátí prvních $n$ členů.\n"
   ]
  },
  {
   "cell_type": "code",
   "execution_count": 31,
   "metadata": {},
   "outputs": [
    {
     "name": "stdout",
     "output_type": "stream",
     "text": [
      "0\n",
      "1\n",
      "1\n",
      "2\n",
      "3\n",
      "5\n",
      "8\n",
      "13\n",
      "21\n",
      "34\n",
      "55\n",
      "89\n",
      "144\n",
      "233\n",
      "377\n"
     ]
    }
   ],
   "source": [
    "def fibonacci(n):\n",
    "    a = 0\n",
    "    b = 1\n",
    "    for i in range(n):\n",
    "        yield a #vypise a\n",
    "        c = a #priradi a do pomocne promenne c\n",
    "        a = b #priradi b do a (nasledny krok)\n",
    "        b = c + a #b zvetsi o c (pro nasledujici krok)\n",
    "\n",
    "n = 15\n",
    "gen = fibonacci(n) #prirazeni funkce ke generatoru\n",
    "for i in range(n):\n",
    "    try: #zkus vypsat dalsi clen pomoci generatoru\n",
    "        print(next(gen)) #vypis ho\n",
    "    except StopIteration: #pokud se dostanes pres n, tak vypis radek nize\n",
    "        print(f\"Generátor {gen} vyčerpal všechny hodnoty.\")"
   ]
  },
  {
   "cell_type": "markdown",
   "metadata": {},
   "source": [
    "\n",
    "# List comprehension:\n",
    "- Vytvořte seznam čísel od 1 do 10 pomocí list comprehension.\n",
    "- Vytvořte seznam druhých mocnin čísel od 1 do 10 pomocí list comprehension.\n",
    "- Vytvořte seznam prvočísel od 1 do 100 pomocí list comprehension. Hint (použijte funkci all() na generátor testující dělitelnost).\n"
   ]
  },
  {
   "cell_type": "code",
   "execution_count": 89,
   "metadata": {},
   "outputs": [
    {
     "name": "stdout",
     "output_type": "stream",
     "text": [
      "[1, 2, 3, 4, 5, 6, 7, 8, 9, 10]\n",
      "[1, 4, 9, 16, 25, 36, 49, 64, 81, 100]\n",
      "[2, 3, 5, 7, 11, 13, 17, 19, 23, 29, 31, 37, 41, 43, 47, 53, 59, 61, 67, 71, 73, 79, 83, 89, 97]\n"
     ]
    }
   ],
   "source": [
    "print([i for i in range(1, 11)])\n",
    "print([i**2 for i in range(1, 11)])\n",
    "print([x for x in range(2, 101) if all(x % y != 0 for y in range(2, x))]) \n",
    "#vypis vsechna x v rozsahu od 2 do 101 pokud deleni x/y vyjde nenulove v rozsahu y od 2 do x"
   ]
  },
  {
   "cell_type": "markdown",
   "metadata": {},
   "source": [
    "\n",
    "# Práce se soubory:\n",
    "- Pomocí %%writefile vytvořte soubor s nějakým textem.\n",
    "- Otevřete soubor pro čtení a vypište jeho obsah.\n",
    "- Otevřete jiný soubor pro zápis a napište do něj textový řetězec.\n",
    "- Pomocí f-strings zapište do souboru tabulku čísel od 1 do 10, jejich druhých mocnin a jejich druhých odmocnin."
   ]
  },
  {
   "cell_type": "code",
   "execution_count": 91,
   "metadata": {},
   "outputs": [
    {
     "name": "stdout",
     "output_type": "stream",
     "text": [
      "Overwriting textovy_soubor.txt\n"
     ]
    }
   ],
   "source": [
    "%%writefile textovy_soubor.txt\n",
    "radek1\n",
    "radek2\n",
    "radek3\n",
    "radek4\n",
    "radek5"
   ]
  },
  {
   "cell_type": "code",
   "execution_count": 94,
   "metadata": {},
   "outputs": [
    {
     "name": "stderr",
     "output_type": "stream",
     "text": [
      "UsageError: %%writefile is a cell magic, but the cell body is empty.\n"
     ]
    }
   ],
   "source": [
    "%%writefile jiny_textovy_soubor.txt\n"
   ]
  },
  {
   "cell_type": "code",
   "execution_count": null,
   "metadata": {},
   "outputs": [],
   "source": [
    "with open(\"textovy_soubor.txt\", \"r\") as textovy_soubor:\n",
    "    obsah = textovy_soubor.read()\n",
    "\n",
    "with open(\"jiny_textovy_soubor.txt\", \"w\") as jiny_textovy_soubor:\n",
    "    jiny_textovy_soubor.write(obsah)"
   ]
  },
  {
   "cell_type": "code",
   "execution_count": null,
   "metadata": {},
   "outputs": [],
   "source": [
    "with open(\"tabulka.txt\", \"w\") as tabulka: #vytvori a otevre pro zapis soubor tabulka.txt\n",
    "    for i in range(1, 11):\n",
    "        tabulka.write(f\"{i}\\t{i**2}\\t{i**(1/2)}\\n\") #do tabulky se zapisi cisla v rozsahu i, jejich druhe mocniny a odmocniny (oddeleno tabulatorem \\t, na konci radku \\n)"
   ]
  },
  {
   "attachments": {},
   "cell_type": "markdown",
   "metadata": {},
   "source": [
    "# Domácí úkol:\n",
    "Pomocí vlastních tříd a dědičnosti vytvořte \"soubor tříd\" = nástroj pro derivaci funkcí.\n",
    "\n",
    "Konkrétněji:\n",
    "- Vytvořte třídu **Operator**\n",
    "    - Třída bude mít metody:\n",
    "        - `__init__()` - inicializuje operátor (zde stačí `pass`)\n",
    "        - `__str__()` - vrací řetězec reprezentující operátor\n",
    "        - `__repr__()` - vrací řetězec reprezentující operátor\n",
    "- Vytvořte třídu **BinaryOperator**, která bude dědit od třídy Operator\n",
    "    - Třída bude mít atributy:\n",
    "        - `levy_argument` - levý operand\n",
    "        - `pravy_argument` - pravý operand\n",
    "    - Třída bude mít metody:\n",
    "        - `__init__()` - inicializuje operátor, přiřadí argumenty\n",
    "        - `__str__()` - vrací řetězec reprezentující operátor\n",
    "        - `__repr__()` - vrací řetězec reprezentující operátor\n",
    "        - `diff()` - vrací derivaci operátoru\n",
    "- Vytvořte třídu **UnaryOperator**, která bude dědit od třídy Operator\n",
    "    - Třída bude mít atributy:\n",
    "        - `argument` - argument funkce \n",
    "    - Třída bude mít metody:\n",
    "        - `__init__()` - inicializuje operátor, přiřadí argument\n",
    "        - `__str__()` - vrací řetězec reprezentující operátor\n",
    "        - `__repr__()` - vrací řetězec reprezentující operátor\n",
    "        - `diff()` - vrací derivaci operátoru\n",
    "\n",
    "Pro počítání derivací použijte standardní pravidla:\n",
    "- derivace součtu je součet derivací\n",
    "- pravidlo pro derivaci součinu\n",
    "- derivace funkce je derivovaná funkce násobená derivovaným argumentem\n",
    "\n",
    "Pro **BinaryOperator** a **UnaryOperator** implementujte také metody implementující standardní operátory:\n",
    "- `__add__()` - implementuje operátor `+`\n",
    "- `__sub__()` - implementuje operátor `-`\n",
    "- `__mul__()` - implementuje operátor `*`\n",
    "\n",
    "Pro **BinaryOperator** implementujte dvě dceřiné třídy:\n",
    "- **Addition** - implementuje operátor `+`\n",
    "- **Multiplication** - implementuje operátor `*`\n",
    "\n",
    "Pro **UnaryOperator** implementujte tyto dceřiné třídy:\n",
    "- **exp** - implementuje funkci `exp`\n",
    "- **sin** - implementuje funkci `sin`\n",
    "- **cos** - implementuje funkci `cos`\n",
    "- **ln** - implementuje funkci `ln`\n",
    "- **frc** - implementuje funkci `1/x`\n",
    "- **identity** - implementuje identitu `x`\n",
    "- **cst** - implementuje konstantu `c`\n",
    "- **mocnina** - implementuje mocninu `x^n`\n",
    "\n",
    "U všech funckí implementujte adekvátně metodu `diff()` a `__str__()`, tak aby se funkce vypisovaly v přehledné podobě.\n",
    "\n",
    "Ozkoušejte na následujících funkcích:\n",
    "- $sin(x + cos(x*x)) + 1$\n",
    "- $x^2 + 2x + 1 + 2x^2$\n",
    "- $x^2 + 2x + exp(x)$"
   ]
  },
  {
   "cell_type": "code",
   "execution_count": 110,
   "metadata": {},
   "outputs": [],
   "source": [
    "# kostra k doplnění, místa označená TODO doplňte\n",
    "\n",
    "class Opertor: #objekt\n",
    "    def __init__(self): #konstruktor\n",
    "        pass\n",
    "    \n",
    "    def __str__(self):\n",
    "        return type(self).__name__\n",
    "    \n",
    "    def __repr__(self):\n",
    "        return self.__str__()\n",
    "    \n",
    "    def diff(self):\n",
    "        pass\n",
    "    \n",
    "    def __add__(self, other):\n",
    "        return Addition(self, other)\n",
    "    \n",
    "    def __sub__(self, other):\n",
    "        # TODO (použijte Addition a Multiplication se zápornou konstantu)\n",
    "        return Additon(self, Multiplication(cst(-1), other))\n",
    "    \n",
    "    def __mul__(self, other):\n",
    "        return Multiplication(self, other)\n",
    "    \n",
    "class BinaryOperator(Opertor):\n",
    "    def __init__(self, levy_argument, pravy_argument):\n",
    "        self.levy_argument = levy_argument\n",
    "        self.pravy_argument = pravy_argument\n",
    "        \n",
    "class UnaryOperator(Opertor):\n",
    "    def __init__(self, argument):\n",
    "        self.argument = argument\n",
    "\n",
    "    def __str__(self):\n",
    "        return type(self).__name__ + \"(\" + str(self.argument) + \")\"\n",
    "\n",
    "        \n",
    "class Addition(BinaryOperator):\n",
    "    def __str__(self):\n",
    "        # TODO vypíšeme něco jako (levy_argument)+(pravy_argument)\n",
    "        return \"(\" + str(self.levy_argument) + \"+\" + str(self.pravy_argument) + \")\"\n",
    "\n",
    "    def diff(self):\n",
    "        # TODO\n",
    "        return Addition(self.levy_argument.diff(), self.pravy_argument.diff())\n",
    "    \n",
    "class Multiplication(BinaryOperator):\n",
    "    def __str__(self):\n",
    "        # TODO vypíšeme něco jako (levy_argument)*(pravy_argument)\n",
    "        return str(self.levy_argument) + \"*\" + str(self.pravy_argument)\n",
    "\n",
    "    def diff(self):\n",
    "        # TODO\n",
    "        return Addition(Multiplication(self.levy_argument.diff(), self.pravy_argument), Multiplication(self.levy_argument, self.pravy_argument.diff()))\n",
    "    \n",
    "class cst(UnaryOperator):\n",
    "    def __init__(self, value):\n",
    "        self.value = value\n",
    "    def __str__(self):\n",
    "        # TODO vypíšeme něco jako value\n",
    "        return \"(\" + str(self.value) + \")\"\n",
    "    def diff(self):\n",
    "        # TODO\n",
    "        return cst(0)\n",
    "    \n",
    "class identity(UnaryOperator):\n",
    "    def __init__(self):\n",
    "        pass\n",
    "    def __str__(self):\n",
    "        # TODO vypíšeme něco jako x   \n",
    "        return \"x\"\n",
    "    def diff(self):\n",
    "        # TODO\n",
    "        return cst(1)\n",
    "    \n",
    "class mocnina(UnaryOperator):\n",
    "    def __init__(self, argument, exponent):\n",
    "        self.argument = argument\n",
    "        self.exponent = exponent\n",
    "    def __str__(self):\n",
    "        # TODO vypíšeme něco jako argument^exponent\n",
    "        return \"(\" + str(self.argument) + \")**(\" + str(self.exponent) + \")\"\n",
    "    def diff(self):\n",
    "        # TODO\n",
    "        return Multiplication(cst(self.exponent), mocnina(self.argument, self.exponent-1))\n",
    "    \n",
    "class sin(UnaryOperator):\n",
    "    def diff(self):\n",
    "        # TODO\n",
    "        return Multiplication(cos(self.argument), self.argument.diff())\n",
    "\n",
    "class cos(UnaryOperator):\n",
    "    def diff(self):\n",
    "        # TODO\n",
    "        return Multiplication(cst(-1)*cos(self.argument), self.argument.diff())\n",
    "\n",
    "class exp(UnaryOperator):\n",
    "    def diff(self):\n",
    "        # TODO\n",
    "        return Multiplication(self, self.argument.diff())\n",
    "    \n",
    "class ln(UnaryOperator):\n",
    "    def diff(self):\n",
    "        # TODO\n",
    "        return Multiplication(frc(self.argument), self.argument.diff())\n",
    "\n",
    "class frc(UnaryOperator):\n",
    "    def __str__(self):\n",
    "        # TODO vypíšeme něco jako 1/(argument)\n",
    "        return \"1/(\" + str(self.argument) + \")\"\n",
    "    \n",
    "    def diff(self):\n",
    "        # TODO\n",
    "        return cst(-1) * frc(mocnina(self.argument, 2)) * self.argument.diff()"
   ]
  },
  {
   "cell_type": "code",
   "execution_count": 111,
   "metadata": {},
   "outputs": [
    {
     "name": "stdout",
     "output_type": "stream",
     "text": [
      "(sin((x+cos(x*x)))+(1))\n",
      "(cos((x+cos(x*x)))*((1)+(-1)*cos(x*x)*((1)*x+x*(1)))+(0))\n"
     ]
    }
   ],
   "source": [
    "# takto by se to mělo používat\n",
    "x = identity()\n",
    "# sin(x + cos(x*x)) + 1\n",
    "f1 = sin(x + cos(x*x)) + cst(1)\n",
    "print(f1)\n",
    "print(f1.diff())"
   ]
  },
  {
   "attachments": {},
   "cell_type": "markdown",
   "metadata": {},
   "source": [
    "můj výstup byl:\n",
    "\n",
    "`sin(x + cos((x)*(x))) + 1`\n",
    "\n",
    "`(cos(x + cos((x)*(x))))*(1 + ((-1)*(sin((x)*(x))))*((1)*(x) + (x)*(1))) + 0`"
   ]
  },
  {
   "cell_type": "code",
   "execution_count": 112,
   "metadata": {},
   "outputs": [
    {
     "name": "stdout",
     "output_type": "stream",
     "text": [
      "((((x)**(2)+(2)*x)+(1))+(2)*(x)**(2))\n",
      "((((2)*(x)**(1)+((0)*x+(2)*(1)))+(0))+((0)*(x)**(2)+(2)*(2)*(x)**(1)))\n"
     ]
    }
   ],
   "source": [
    "x = identity()\n",
    "# x ^ 2 + 2x + 1 + 2x ^ 2\n",
    "f2 = mocnina(x,2) + cst(2)*x + cst(1) + cst(2)*mocnina(x,2)\n",
    "print(f2)\n",
    "print(f2.diff())\n"
   ]
  },
  {
   "attachments": {},
   "cell_type": "markdown",
   "metadata": {},
   "source": [
    "můj výstup byl:\n",
    "\n",
    "`(x)^2 + (2)*(x) + 1 + (2)*((x)^2)`\n",
    "\n",
    "`((2)*((x)^1))*(1) + (0)*(x) + (2)*(1) + 0 + (0)*((x)^2) + (2)*(((2)*((x)^1))*(1))`"
   ]
  },
  {
   "cell_type": "code",
   "execution_count": 113,
   "metadata": {},
   "outputs": [
    {
     "name": "stdout",
     "output_type": "stream",
     "text": [
      "(((x)**(2)+(2)*x)+exp(x))\n",
      "(((2)*(x)**(1)+((0)*x+(2)*(1)))+exp(x)*(1))\n"
     ]
    }
   ],
   "source": [
    "x = identity()\n",
    "# x ^ 2 + 2x + exp(x)\n",
    "f3 = mocnina(x,2) + cst(2)*x + exp(x)\n",
    "print(f3)\n",
    "print(f3.diff())\n"
   ]
  },
  {
   "attachments": {},
   "cell_type": "markdown",
   "metadata": {},
   "source": [
    "můj výstup byl:\n",
    "\n",
    "`(x)^2 + (2)*(x) + exp(x)`\n",
    "\n",
    "`((2)*((x)^1))*(1) + (0)*(x) + (2)*(1) + (exp(x))*(1)`\n"
   ]
  },
  {
   "attachments": {},
   "cell_type": "markdown",
   "metadata": {},
   "source": [
    "# Bonusový úkol:\n",
    "Doplňte ke všem třídám metodu `simplify()`, která provede zjednodušení výrazu. Například:\n",
    "- součet s nulou vrátí druhý operand\n",
    "- součin s nulou vrátí nulu\n",
    "- mocnina s exponentem 0 vrátí 1\n",
    "- mocnina s exponentem 1 vrátí první argument\n",
    "- součín dvou stejných argumentů vrátí mocninu s exponentem 2\n",
    "- součin konstant vrátí konstantu se součinem\n",
    "- ..."
   ]
  },
  {
   "cell_type": "markdown",
   "metadata": {},
   "source": []
  }
 ],
 "metadata": {
  "kernelspec": {
   "display_name": "Python 3",
   "language": "python",
   "name": "python3"
  },
  "language_info": {
   "codemirror_mode": {
    "name": "ipython",
    "version": 3
   },
   "file_extension": ".py",
   "mimetype": "text/x-python",
   "name": "python",
   "nbconvert_exporter": "python",
   "pygments_lexer": "ipython3",
   "version": "3.10.9"
  },
  "orig_nbformat": 4,
  "vscode": {
   "interpreter": {
    "hash": "e7370f93d1d0cde622a1f8e1c04877d8463912d04d973331ad4851f04de6915a"
   }
  }
 },
 "nbformat": 4,
 "nbformat_minor": 2
}
